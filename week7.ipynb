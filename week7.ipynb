{
  "nbformat": 4,
  "nbformat_minor": 0,
  "metadata": {
    "colab": {
      "provenance": [],
      "authorship_tag": "ABX9TyPXf9F1RZC3XQSlrMrbiEdy",
      "include_colab_link": true
    },
    "kernelspec": {
      "name": "python3",
      "display_name": "Python 3"
    },
    "language_info": {
      "name": "python"
    }
  },
  "cells": [
    {
      "cell_type": "markdown",
      "metadata": {
        "id": "view-in-github",
        "colab_type": "text"
      },
      "source": [
        "<a href=\"https://colab.research.google.com/github/MuhamadAnang/PCVK/blob/main/week7.ipynb\" target=\"_parent\"><img src=\"https://colab.research.google.com/assets/colab-badge.svg\" alt=\"Open In Colab\"/></a>"
      ]
    },
    {
      "cell_type": "markdown",
      "source": [
        "# MODUL 7 – Filter Spasial Low Pass Filter, High Pass Filter, Point Detection, Line Detection, Edge Detection\n",
        "\n",
        "**Nama :** Muhamad Anang Abdullah Faqih\n",
        "\n",
        "**Kelas :** D4 TI 3D\n",
        "\n",
        "**NIM :** 2241720070\n",
        "\n",
        "## Tugas Praktikum"
      ],
      "metadata": {
        "id": "zx4cxayW8fxK"
      }
    },
    {
      "cell_type": "code",
      "execution_count": null,
      "metadata": {
        "id": "ceBHEpkBfVZ6"
      },
      "outputs": [],
      "source": []
    }
  ]
}