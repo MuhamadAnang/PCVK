{
  "nbformat": 4,
  "nbformat_minor": 0,
  "metadata": {
    "colab": {
      "provenance": [],
      "authorship_tag": "ABX9TyOjbhNoaNs1uH7y2nIu/r5V",
      "include_colab_link": true
    },
    "kernelspec": {
      "name": "python3",
      "display_name": "Python 3"
    },
    "language_info": {
      "name": "python"
    }
  },
  "cells": [
    {
      "cell_type": "markdown",
      "metadata": {
        "id": "view-in-github",
        "colab_type": "text"
      },
      "source": [
        "<a href=\"https://colab.research.google.com/github/MuhamadAnang/PCVK/blob/main/week11.ipynb\" target=\"_parent\"><img src=\"https://colab.research.google.com/assets/colab-badge.svg\" alt=\"Open In Colab\"/></a>"
      ]
    },
    {
      "cell_type": "markdown",
      "source": [
        "# MODUL 11\n",
        "\n",
        "**Nama :** Muhamad Anang Abdullah Faqih\n",
        "\n",
        "**Kelas :** D4 TI 3D\n",
        "\n",
        "**NIM :** 2241720070"
      ],
      "metadata": {
        "id": "I2f0A-bJr-D2"
      }
    },
    {
      "cell_type": "markdown",
      "source": [
        "1. Buka https://colab.research.google.com/. Setelah dipastikan bahwa google Colab\n",
        "terhubung dengan Github Anda, lanjutkan dengan memilih repository yang telah\n",
        "digunakan pada praktikum minggu lalu, rename file menjadi “Week11.ipynb”.  "
      ],
      "metadata": {
        "id": "Xxus5gtnsdK5"
      }
    },
    {
      "cell_type": "code",
      "execution_count": null,
      "metadata": {
        "id": "nUdIDFaIp6OU"
      },
      "outputs": [],
      "source": [
        "from google.colab import drive\n",
        "drive.mount('/content/drive')"
      ]
    },
    {
      "cell_type": "markdown",
      "source": [],
      "metadata": {
        "id": "XdWXCsEWr9cD"
      }
    }
  ]
}