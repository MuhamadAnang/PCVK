{
  "nbformat": 4,
  "nbformat_minor": 0,
  "metadata": {
    "colab": {
      "provenance": [],
      "authorship_tag": "ABX9TyPjtCAW3slvhWOWj4ZEDOr6",
      "include_colab_link": true
    },
    "kernelspec": {
      "name": "python3",
      "display_name": "Python 3"
    },
    "language_info": {
      "name": "python"
    }
  },
  "cells": [
    {
      "cell_type": "markdown",
      "metadata": {
        "id": "view-in-github",
        "colab_type": "text"
      },
      "source": [
        "<a href=\"https://colab.research.google.com/github/MuhamadAnang/PCVK/blob/main/week5.ipynb\" target=\"_parent\"><img src=\"https://colab.research.google.com/assets/colab-badge.svg\" alt=\"Open In Colab\"/></a>"
      ]
    },
    {
      "cell_type": "markdown",
      "source": [
        "**MODUL 5 – Operasi Aritmatika dan Logika - Gamma Correction, Image Depth, PSNR, Average Denoising, Image Masking**\n",
        "\n",
        "Nama  : Muhamad Anang Abdullah Faqih\n",
        "\n",
        "Kelas : D4 TI 3D\n",
        "\n",
        "NIM   : 2241720070"
      ],
      "metadata": {
        "id": "dJGKZh2fv1dx"
      }
    },
    {
      "cell_type": "code",
      "source": [],
      "metadata": {
        "id": "QBfNWaONxd9K"
      },
      "execution_count": null,
      "outputs": []
    }
  ]
}